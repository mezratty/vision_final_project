{
 "cells": [
  {
   "cell_type": "code",
   "execution_count": 12,
   "metadata": {
    "collapsed": false,
    "deletable": true,
    "editable": true
   },
   "outputs": [],
   "source": [
    "from __future__ import print_function\n",
    "\n",
    "import numpy as np\n",
    "import tensorflow as tf\n",
    "import matplotlib.pyplot as plt\n",
    "\n",
    "# Import MNIST data\n",
    "import load_data as data"
   ]
  },
  {
   "cell_type": "code",
   "execution_count": 15,
   "metadata": {
    "collapsed": false,
    "deletable": true,
    "editable": true
   },
   "outputs": [],
   "source": [
    "# n different points we want to cluster\n",
    "# We have 59 points in all 3 categories * 2 people * 10 repetitions (maia_fall only had 9)\n",
    "train_trials = 59\n",
    "test_trials = 16\n",
    "# Tensor length of 80 since that's how many frames we decided on--easily modifiable\n",
    "NUM_FRAMES = 80\n",
    "NUM_FEATURES = 36\n",
    "\n",
    "# Starting off with just one point so that it's easier to follow along with tutorials\n",
    "# Will switch to more than one point later\n",
    "# joint_index specifies which of the 36 joints we want, 0 is nose\n",
    "# Find corresponding values at https://github.com/CMU-Perceptual-Computing-Lab/openpose/blob/master/doc/output.md\n",
    "joint_index = 0 \n",
    "\n",
    "# 3D\n",
    "# Xtr, Ytr = data.train_get_three_dimension(train_trials)\n",
    "# Xte, Yte = data.test_get_three_dimension(test_trials)\n",
    "\n"
   ]
  },
  {
   "cell_type": "code",
   "execution_count": 22,
   "metadata": {
    "collapsed": false,
    "deletable": true,
    "editable": true,
    "scrolled": false
   },
   "outputs": [
    {
     "data": {
      "image/png": "[encoded data removed]",
      "text/plain": [
       "<matplotlib.figure.Figure at 0x11627bba8>"
      ]
     },
     "metadata": {},
     "output_type": "display_data"
    },
    {
     "data": {
      "image/png": "[encoded data removed]",
      "text/plain": [
       "<matplotlib.figure.Figure at 0x115ba90b8>"
      ]
     },
     "metadata": {},
     "output_type": "display_data"
    },
    {
     "data": {
      "text/plain": [
       "<matplotlib.text.Text at 0x114f2f048>"
      ]
     },
     "execution_count": 22,
     "metadata": {},
     "output_type": "execute_result"
    }
   ],
   "source": [
    "# Start training\n",
    "accuracies = np.zeros(NUM_FEATURES)\n",
    "dumb = np.zeros(18)\n",
    "for i in range(18):\n",
    "    dumb[i] = i\n",
    "for i in range(5):\n",
    "    # 2D\n",
    "    Xtr, Ytr = data.train_get_one_keypoint(train_trials, i)\n",
    "    Xte, Yte = data.test_get_one_keypoint(test_trials, i)\n",
    "\n",
    "\n",
    "    # tf Graph Input\n",
    "\n",
    "    # 3D\n",
    "    # xtr = tf.placeholder(\"float\", [train_trials, NUM_FRAMES, NUM_FEATURES])\n",
    "    # xte = tf.placeholder(\"float\", [NUM_FRAMES, NUM_FEATURES])\n",
    "\n",
    "    # 2D\n",
    "    xtr = tf.placeholder(\"float\", [train_trials, NUM_FRAMES])\n",
    "    xte = tf.placeholder(\"float\", [NUM_FRAMES])\n",
    "\n",
    "    # Nearest Neighbor calculation using L1 Distance\n",
    "    # Calculate L1 Distance\n",
    "    distance = tf.reduce_sum(tf.abs(tf.add(xtr, tf.negative(xte))), reduction_indices=1)\n",
    "    # Prediction: Get min distance index (Nearest neighbor)\n",
    "    pred = tf.argmin(distance, 0)\n",
    "\n",
    "    # Initialize the variables (i.e. assign their default value)\n",
    "    init = tf.global_variables_initializer()\n",
    "\n",
    "    ###### Training code\n",
    "\n",
    "    with tf.Session() as sess:\n",
    "        accuracy = 0.\n",
    "        # Run the initializer\n",
    "        sess.run(init)\n",
    "\n",
    "        # loop over test data\n",
    "        for j in range(len(Xte)):\n",
    "            # Get nearest neighbor\n",
    "            # 3D\n",
    "            # nn_index = sess.run(pred, feed_dict={xtr: Xtr, xte: Xte[i, :, :]})\n",
    "\n",
    "            #2D\n",
    "            nn_index = sess.run(pred, feed_dict={xtr: Xtr, xte: Xte[j, :]})\n",
    "            \n",
    "            # Get nearest neighbor class label and compare it to its true label\n",
    "#             print(\"Test\", i, \"Prediction:\", np.argmax(Ytr[nn_index]) + 1, \\\n",
    "#                 \"True Class:\", np.argmax(Yte[i]) + 1)\n",
    "            # Calculate accuracy\n",
    "            if np.argmax(Ytr[nn_index]) == np.argmax(Yte[j]):\n",
    "                accuracy += 1./len(Xte)\n",
    "#         print(\"Done!\")\n",
    "#         print(\"Accuracy:\", accuracy)\n",
    "        accuracies[i] = accuracy\n",
    "#         print(accuracies)\n",
    "        \n",
    "plt.plot(dumb, accuracies[::2])\n",
    "plt.show()\n",
    "plt.ylabel('Accuracy')\n",
    "plt.xlabel('Joint index')\n",
    "# plt.xticks(dumb, dumb)\n",
    "plt.title('Accuracy scores for Joint X Coords')\n",
    "\n",
    "plt.plot(dumb, accuracies[1::2])\n",
    "plt.show()\n",
    "plt.ylabel('Accuracy')\n",
    "plt.xlabel('Joint index')\n",
    "# plt.xticks(dumb, dumb)\n",
    "plt.title('Accuracy scores for Joint Y Coords')"
   ]
  }
 ],
 "metadata": {
  "kernelspec": {
   "display_name": "Python 3",
   "language": "python",
   "name": "python3"
  },
  "language_info": {
   "codemirror_mode": {
    "name": "ipython",
    "version": 3
   },
   "file_extension": ".py",
   "mimetype": "text/x-python",
   "name": "python",
   "nbconvert_exporter": "python",
   "pygments_lexer": "ipython3",
   "version": "3.6.4"
  }
 },
 "nbformat": 4,
 "nbformat_minor": 2
}
