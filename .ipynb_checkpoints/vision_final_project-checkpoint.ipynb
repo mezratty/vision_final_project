{
 "cells": [
  {
   "cell_type": "code",
   "execution_count": 1,
   "metadata": {
    "collapsed": false,
    "deletable": true,
    "editable": true
   },
   "outputs": [
    {
     "ename": "ModuleNotFoundError",
     "evalue": "No module named 'tensorflow'",
     "output_type": "error",
     "traceback": [
      "\u001b[0;31m---------------------------------------------------------------------------\u001b[0m",
      "\u001b[0;31mModuleNotFoundError\u001b[0m                       Traceback (most recent call last)",
      "\u001b[0;32m<ipython-input-1-9d6409793ea2>\u001b[0m in \u001b[0;36m<module>\u001b[0;34m()\u001b[0m\n\u001b[1;32m      1\u001b[0m \u001b[0;32mimport\u001b[0m \u001b[0mnumpy\u001b[0m \u001b[0;32mas\u001b[0m \u001b[0mnp\u001b[0m\u001b[0;34m\u001b[0m\u001b[0m\n\u001b[0;32m----> 2\u001b[0;31m \u001b[0;32mimport\u001b[0m \u001b[0mtensorflow\u001b[0m \u001b[0;32mas\u001b[0m \u001b[0mtf\u001b[0m\u001b[0;34m\u001b[0m\u001b[0m\n\u001b[0m\u001b[1;32m      3\u001b[0m \u001b[0;31m# %matplotlib inline\u001b[0m\u001b[0;34m\u001b[0m\u001b[0;34m\u001b[0m\u001b[0m\n\u001b[1;32m      4\u001b[0m \u001b[0;32mimport\u001b[0m \u001b[0mmatplotlib\u001b[0m\u001b[0;34m.\u001b[0m\u001b[0mpyplot\u001b[0m \u001b[0;32mas\u001b[0m \u001b[0mplt\u001b[0m\u001b[0;34m\u001b[0m\u001b[0m\n\u001b[1;32m      5\u001b[0m \u001b[0mplt\u001b[0m\u001b[0;34m.\u001b[0m\u001b[0mstyle\u001b[0m\u001b[0;34m.\u001b[0m\u001b[0muse\u001b[0m\u001b[0;34m(\u001b[0m\u001b[0;34m'ggplot'\u001b[0m\u001b[0;34m)\u001b[0m\u001b[0;34m\u001b[0m\u001b[0m\n",
      "\u001b[0;31mModuleNotFoundError\u001b[0m: No module named 'tensorflow'"
     ]
    }
   ],
   "source": [
    "import numpy as np\n",
    "import tensorflow as tf\n",
    "# %matplotlib inline\n",
    "import matplotlib.pyplot as plt\n",
    "plt.style.use('ggplot')\n",
    "import warnings\n",
    "\n",
    "warnings.filterwarnings('ignore')\n",
    "plt.rcParams['figure.figsize'] = (20.0, 10.0)\n",
    "\n",
    "num_points_each_cluster = 100\n",
    "mu1 = [-0.4, 3]\n",
    "covar1 = [[1.3,0],[0,1]]\n",
    "mu2 = [0.5, 0.75]\n",
    "covar2 = [[2.2,1.2],[1.8,2.1]]\n",
    "X1 = np.random.multivariate_normal(mu1, covar1, num_points_each_cluster)\n",
    "X2 = np.random.multivariate_normal(mu2, covar2, num_points_each_cluster)\n",
    "y1 = np.ones(num_points_each_cluster)\n",
    "y2 = np.zeros(num_points_each_cluster)\n",
    "\n",
    "plt.plot( X1[:, 0], X1[:,1], 'ro', label='class 1')\n",
    "plt.plot(X2[:, 0], X2[:,1], 'bo', label='class 0')\n",
    "plt.legend(loc='best')\n",
    "plt.show()\n"
   ]
  },
  {
   "cell_type": "code",
   "execution_count": null,
   "metadata": {
    "collapsed": true
   },
   "outputs": [],
   "source": [
    "# X = np.vstack((X1, X2))\n",
    "# y = np.hstack((y1, y2))\n",
    "# print X.shape, y.shape\n",
    "\n",
    "# (200, 2) (200,)\n",
    "# X_tf = tf.constant(X)\n",
    "# y_tf = tf.constant(y)\n",
    "\n",
    "# def predict(X_t, y_t, x_t, k_t):\n",
    "#     neg_one = tf.constant(-1.0, dtype=tf.float64)\n",
    "#     # we compute the L-1 distance\n",
    "#     distances =  tf.reduce_sum(tf.abs(tf.subtract(X_t, x_t)), 1)\n",
    "#     # to find the nearest points, we find the farthest points based on negative distances\n",
    "#     # we need this trick because tensorflow has top_k api and no closest_k or reverse=True api\n",
    "#     neg_distances = tf.multiply(distances, neg_one)\n",
    "#     # get the indices\n",
    "#     vals, indx = tf.nn.top_k(neg_distances, k_t)\n",
    "#     # slice the labels of these points\n",
    "#     y_s = tf.gather(y_t, indx)\n",
    "#     return y_s\n",
    "    \n",
    "    \n",
    "# def get_label(preds):\n",
    "#     counts = np.bincount(preds.astype('int64'))\n",
    "#     return np.argmax(counts)\n",
    "\n",
    "# example = np.array([0, 0])\n",
    "# example_tf = tf.constant(example,dtype=tf.float64)\n",
    "\n",
    "# plt.plot( X1[:, 0], X1[:,1], 'ro', label='class 1')\n",
    "# plt.plot(X2[:, 0], X2[:,1], 'bo', label='class 0')\n",
    "# plt.plot(example[0], example[1], 'g', marker='D', markersize=10, label='test point')\n",
    "# plt.legend(loc='best')\n",
    "# plt.show()"
   ]
  },
  {
   "cell_type": "code",
   "execution_count": null,
   "metadata": {
    "collapsed": true
   },
   "outputs": [],
   "source": [
    "# k_tf = tf.constant(3)\n",
    "# pr = predict(X_tf, y_tf, example_tf, k_tf)\n",
    "# sess = tf.Session()\n",
    "# y_index = sess.run(pr)\n",
    "# print get_label(y_index)\n",
    "# 0\n",
    "# example_2 = np.array([0.1, 2.5])\n",
    "# example_2_tf = tf.constant(example_2)\n",
    "# plt.plot( X1[:, 0], X1[:,1], 'ro', label='class 1')\n",
    "# plt.plot(X2[:, 0], X2[:,1], 'bo', label='class 0')\n",
    "# plt.plot(example_2[0], example_2[1], 'g', marker='D', markersize=10, label='test point')\n",
    "# plt.legend(loc='best')\n",
    "# plt.show()\n",
    "\n",
    "# pr = predict(X_tf, y_tf, example_2_tf, k_tf)\n",
    "# y_index = sess.run(pr)\n",
    "# print get_label(y_index)"
   ]
  }
 ],
 "metadata": {
  "kernelspec": {
   "display_name": "Python 3",
   "language": "python",
   "name": "python3"
  },
  "language_info": {
   "codemirror_mode": {
    "name": "ipython",
    "version": 3
   },
   "file_extension": ".py",
   "mimetype": "text/x-python",
   "name": "python",
   "nbconvert_exporter": "python",
   "pygments_lexer": "ipython3",
   "version": "3.6.1"
  }
 },
 "nbformat": 4,
 "nbformat_minor": 2
}
