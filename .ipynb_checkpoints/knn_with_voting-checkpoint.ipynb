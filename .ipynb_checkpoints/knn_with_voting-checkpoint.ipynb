{
 "cells": [
  {
   "cell_type": "code",
   "execution_count": 1,
   "metadata": {},
   "outputs": [
    {
     "name": "stderr",
     "output_type": "stream",
     "text": [
      "/Users/stephanieliu/miniconda3/lib/python3.6/importlib/_bootstrap.py:219: RuntimeWarning: compiletime version 3.5 of module 'tensorflow.python.framework.fast_tensor_util' does not match runtime version 3.6\n",
      "  return f(*args, **kwds)\n"
     ]
    }
   ],
   "source": [
    "from __future__ import print_function\n",
    "\n",
    "import numpy as np\n",
    "import tensorflow as tf\n",
    "import matplotlib.pyplot as plt\n",
    "\n",
    "import load_data as data"
   ]
  },
  {
   "cell_type": "code",
   "execution_count": 2,
   "metadata": {
    "collapsed": true
   },
   "outputs": [],
   "source": [
    "# n different points we want to cluster\n",
    "# We have 59 points in all 3 categories * 2 people * 10 repetitions (maia_fall only had 9)\n",
    "train_trials = 59\n",
    "test_trials = 21\n",
    "NUM_FRAMES = 80\n",
    "NUM_FEATURES = 36\n",
    "NUM_CLASSES = 3\n"
   ]
  },
  {
   "cell_type": "code",
   "execution_count": 4,
   "metadata": {
    "scrolled": false
   },
   "outputs": [
    {
     "ename": "TypeError",
     "evalue": "range expected at most 3 arguments, got 5",
     "output_type": "error",
     "traceback": [
      "\u001b[0;31m---------------------------------------------------------------------------\u001b[0m",
      "\u001b[0;31mTypeError\u001b[0m                                 Traceback (most recent call last)",
      "\u001b[0;32m<ipython-input-4-9309599254cd>\u001b[0m in \u001b[0;36m<module>\u001b[0;34m()\u001b[0m\n\u001b[1;32m     29\u001b[0m \u001b[0;34m\u001b[0m\u001b[0m\n\u001b[1;32m     30\u001b[0m \u001b[0;32mfor\u001b[0m \u001b[0mi\u001b[0m \u001b[0;32min\u001b[0m \u001b[0mrange\u001b[0m\u001b[0;34m(\u001b[0m\u001b[0mtest_trials\u001b[0m\u001b[0;34m)\u001b[0m\u001b[0;34m:\u001b[0m\u001b[0;34m\u001b[0m\u001b[0m\n\u001b[0;32m---> 31\u001b[0;31m     \u001b[0;32mfor\u001b[0m \u001b[0mj\u001b[0m \u001b[0;32min\u001b[0m \u001b[0mrange\u001b[0m\u001b[0;34m(\u001b[0m\u001b[0;36m5\u001b[0m\u001b[0;34m,\u001b[0m \u001b[0;36m9\u001b[0m\u001b[0;34m,\u001b[0m \u001b[0;36m13\u001b[0m\u001b[0;34m,\u001b[0m \u001b[0;36m21\u001b[0m\u001b[0;34m,\u001b[0m \u001b[0;36m31\u001b[0m\u001b[0;34m)\u001b[0m\u001b[0;34m:\u001b[0m\u001b[0;34m\u001b[0m\u001b[0m\n\u001b[0m\u001b[1;32m     32\u001b[0m \u001b[0;31m#     for j in best_features_for_l1:\u001b[0m\u001b[0;34m\u001b[0m\u001b[0;34m\u001b[0m\u001b[0m\n\u001b[1;32m     33\u001b[0m \u001b[0;31m#     for j in best_features_for_euclidean:\u001b[0m\u001b[0;34m\u001b[0m\u001b[0;34m\u001b[0m\u001b[0m\n",
      "\u001b[0;31mTypeError\u001b[0m: range expected at most 3 arguments, got 5"
     ]
    }
   ],
   "source": [
    "#### Use Weighting Method to Refine Training\n",
    "# Based on the information about which joints most accurately classify\n",
    "\n",
    "# 2D\n",
    "xtr = tf.placeholder(\"float\", [train_trials, NUM_FRAMES])\n",
    "xte = tf.placeholder(\"float\", [NUM_FRAMES])\n",
    "\n",
    "# Nearest Neighbor calculation using L1 Distance\n",
    "# Calculate L1 Distance\n",
    "distance = tf.reduce_sum(tf.abs(tf.add(xtr, tf.negative(xte))), reduction_indices=1)\n",
    "\n",
    "# Euclidean\n",
    "# distance = tf.sqrt( tf.reduce_sum(tf.square(tf.subtract(xtr, xte)),\n",
    "#                                 reduction_indices=1))\n",
    "\n",
    "# Chebychev\n",
    "distance = tf.reduce_max(tf.abs(tf.subtract(xtr, xte)), reduction_indices=1)\n",
    "\n",
    "# Prediction: Get min distance index (Nearest neighbor)\n",
    "pred = tf.argmin(distance, 0)\n",
    "init = tf.global_variables_initializer()\n",
    "\n",
    "label_votes = np.zeros([test_trials, NUM_CLASSES])\n",
    "accuracies_for_tests = np.zeros(test_trials)\n",
    "\n",
    "best_features_for_l1 = [7, 9, 17, 23]\n",
    "best_features_for_euclidean = [9, 17]\n",
    "best_features_for_chebychev = [5, 9, 13, 21, 31]\n",
    "\n",
    "for i in range(test_trials):\n",
    "    for j in best_features_for_chebychev:\n",
    "#     for j in best_features_for_l1:\n",
    "#     for j in best_features_for_euclidean:\n",
    "    # for each test example, classify with one keypoint at a time -- \n",
    "    # each keypoint will vote for the label it predicts\n",
    "        ###### Training code\n",
    "        Xtr, Ytr = data.train_get_one_keypoint(train_trials, j)\n",
    "        Xte, Yte = data.test_get_one_keypoint(test_trials, j)\n",
    "\n",
    "        with tf.Session() as sess:\n",
    "            sess.run(init)\n",
    "            #2D\n",
    "            nn_index = sess.run(pred, feed_dict={xtr: Xtr, xte: Xte[i, :]})\n",
    "            predicted = np.argmax(Ytr[nn_index]) \n",
    "            label_votes[i, predicted] = label_votes[i, predicted] + 1\n",
    "#             print(label_votes)\n",
    "\n",
    "# End testing, now calculate accuracy given labels\n",
    "accuracy = 0.\n",
    "for i in range(test_trials):\n",
    "    predicted = np.argmax(label_votes[i, :])\n",
    "    if predicted == np.argmax(Yte[i]):\n",
    "        accuracy += 1./len(Xte)\n",
    "        print (\"correct\")\n",
    "    else:\n",
    "        print(\"wrong\")\n",
    "#     print(\"Test\", i, \"Prediction:\", predicted + 1, \\\n",
    "#     \"True Class:\", np.argmax(Yte[i]) + 1)   \n",
    "\n",
    "print(accuracy)\n"
   ]
  },
  {
   "cell_type": "code",
   "execution_count": null,
   "metadata": {
    "collapsed": true
   },
   "outputs": [],
   "source": []
  },
  {
   "cell_type": "markdown",
   "metadata": {
    "collapsed": true
   },
   "source": [
    " "
   ]
  }
 ],
 "metadata": {
  "kernelspec": {
   "display_name": "Python 3",
   "language": "python",
   "name": "python3"
  },
  "language_info": {
   "codemirror_mode": {
    "name": "ipython",
    "version": 3
   },
   "file_extension": ".py",
   "mimetype": "text/x-python",
   "name": "python",
   "nbconvert_exporter": "python",
   "pygments_lexer": "ipython3",
   "version": "3.6.3"
  }
 },
 "nbformat": 4,
 "nbformat_minor": 2
}
