{
 "cells": [
  {
   "cell_type": "code",
   "execution_count": 1,
   "metadata": {
    "collapsed": false,
    "deletable": true,
    "editable": true
   },
   "outputs": [
    {
     "name": "stderr",
     "output_type": "stream",
     "text": [
      "/Library/Frameworks/Python.framework/Versions/3.6/lib/python3.6/importlib/_bootstrap.py:219: RuntimeWarning: compiletime version 3.5 of module 'tensorflow.python.framework.fast_tensor_util' does not match runtime version 3.6\n",
      "  return f(*args, **kwds)\n"
     ]
    }
   ],
   "source": [
    "from __future__ import print_function\n",
    "\n",
    "import numpy as np\n",
    "import tensorflow as tf\n",
    "import matplotlib.pyplot as plt\n",
    "\n",
    "# Import MNIST data\n",
    "import load_data as data"
   ]
  },
  {
   "cell_type": "code",
   "execution_count": 2,
   "metadata": {
    "collapsed": true,
    "deletable": true,
    "editable": true
   },
   "outputs": [],
   "source": [
    "# n different points we want to cluster\n",
    "# We have 59 points in all 3 categories * 2 people * 10 repetitions (maia_fall only had 9)\n",
    "train_trials = 59\n",
    "test_trials = 16\n",
    "# Tensor length of 80 since that's how many frames we decided on--easily modifiable\n",
    "NUM_FRAMES = 80\n",
    "NUM_FEATURES = 36\n",
    "NUM_CLASSES = 3"
   ]
  },
  {
   "cell_type": "code",
   "execution_count": 4,
   "metadata": {
    "collapsed": false,
    "deletable": true,
    "editable": true,
    "scrolled": true
   },
   "outputs": [
    {
     "name": "stdout",
     "output_type": "stream",
     "text": [
      "Test 0 Prediction: 2 True Class: 3\n",
      "correct\n",
      "Test 1 Prediction: 2 True Class: 2\n",
      "Test 2 Prediction: 1 True Class: 2\n",
      "correct\n",
      "Test 3 Prediction: 3 True Class: 3\n",
      "Test 4 Prediction: 2 True Class: 1\n",
      "correct\n",
      "Test 5 Prediction: 3 True Class: 3\n",
      "correct\n",
      "Test 6 Prediction: 3 True Class: 3\n",
      "Test 7 Prediction: 1 True Class: 2\n",
      "correct\n",
      "Test 8 Prediction: 1 True Class: 1\n",
      "Test 9 Prediction: 1 True Class: 2\n",
      "correct\n",
      "Test 10 Prediction: 1 True Class: 1\n",
      "correct\n",
      "Test 11 Prediction: 1 True Class: 1\n",
      "correct\n",
      "Test 12 Prediction: 1 True Class: 1\n",
      "correct\n",
      "Test 13 Prediction: 1 True Class: 1\n",
      "correct\n",
      "Test 14 Prediction: 2 True Class: 2\n",
      "Test 15 Prediction: 1 True Class: 2\n",
      "0.625\n"
     ]
    }
   ],
   "source": [
    "#### Use Weighting Method to Refine Training\n",
    "# Based on the information about which joints most accurately classify\n",
    "\n",
    "# 2D\n",
    "xtr = tf.placeholder(\"float\", [train_trials, NUM_FEATURES])\n",
    "xte = tf.placeholder(\"float\", [NUM_FEATURES])\n",
    "\n",
    "# Nearest Neighbor calculation using L1 Distance\n",
    "# Calculate L1 Distance\n",
    "distance = tf.reduce_sum(tf.abs(tf.add(xtr, tf.negative(xte))), reduction_indices=1)\n",
    "# Prediction: Get min distance index (Nearest neighbor)\n",
    "pred = tf.argmin(distance, 0)\n",
    "init = tf.global_variables_initializer()\n",
    "\n",
    "label_votes = np.zeros([test_trials, NUM_CLASSES])\n",
    "accuracies_for_tests = np.zeros(test_trials)\n",
    "\n",
    "best_features_for_l1 = [6, 12, 14]\n",
    "\n",
    "\n",
    "for i in range(test_trials):\n",
    "    for j in range(NUM_FRAMES):\n",
    "    # for each test example, classify with one FRAME at a time -- \n",
    "    # each frame will vote for the label it predicts\n",
    "    \n",
    "        ###### Training code\n",
    "        Xtr, Ytr = data.train_get_one_frame(train_trials, j)\n",
    "        Xte, Yte = data.test_get_one_frame(test_trials, j)\n",
    "\n",
    "        with tf.Session() as sess:\n",
    "            sess.run(init)\n",
    "            #2D\n",
    "            nn_index = sess.run(pred, feed_dict={xtr: Xtr, xte: Xte[i, :]})\n",
    "            predicted = np.argmax(Ytr[nn_index]) \n",
    "            label_votes[i, predicted] = label_votes[i, predicted] + 1\n",
    "#             print(label_votes)\n",
    "\n",
    "# End testing, now calculate accuracy given labels\n",
    "accuracy = 0.\n",
    "for i in range(test_trials):\n",
    "    predicted = np.argmax(label_votes[i, :])\n",
    "    if predicted == np.argmax(Yte[i]):\n",
    "        accuracy += 1./len(Xte)\n",
    "        print (\"correct\")\n",
    "    else\n",
    "        print(\"wrong\")\n",
    "#     print(\"Test\", i, \"Prediction:\", predicted + 1, \\\n",
    "#     \"True Class:\", np.argmax(Yte[i]) + 1)   \n",
    "\n",
    "print(accuracy)\n"
   ]
  },
  {
   "cell_type": "markdown",
   "metadata": {
    "collapsed": true,
    "deletable": true,
    "editable": true
   },
   "source": [
    " "
   ]
  }
 ],
 "metadata": {
  "kernelspec": {
   "display_name": "Python 3",
   "language": "python",
   "name": "python3"
  },
  "language_info": {
   "codemirror_mode": {
    "name": "ipython",
    "version": 3
   },
   "file_extension": ".py",
   "mimetype": "text/x-python",
   "name": "python",
   "nbconvert_exporter": "python",
   "pygments_lexer": "ipython3",
   "version": "3.6.4"
  }
 },
 "nbformat": 4,
 "nbformat_minor": 2
}
