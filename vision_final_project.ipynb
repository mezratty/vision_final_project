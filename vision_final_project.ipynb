{
 "cells": [
  {
   "cell_type": "code",
   "execution_count": 1,
   "metadata": {
    "collapsed": false,
    "deletable": true,
    "editable": true
   },
   "outputs": [
    {
     "name": "stderr",
     "output_type": "stream",
     "text": [
      "/Library/Frameworks/Python.framework/Versions/3.6/lib/python3.6/importlib/_bootstrap.py:219: RuntimeWarning: compiletime version 3.5 of module 'tensorflow.python.framework.fast_tensor_util' does not match runtime version 3.6\n",
      "  return f(*args, **kwds)\n"
     ]
    }
   ],
   "source": [
    "from __future__ import print_function\n",
    "\n",
    "import numpy as np\n",
    "import tensorflow as tf\n",
    "\n",
    "# Import MNIST data\n",
    "import load_data as data"
   ]
  },
  {
   "cell_type": "code",
   "execution_count": 2,
   "metadata": {
    "collapsed": false,
    "deletable": true,
    "editable": true
   },
   "outputs": [
    {
     "name": "stdout",
     "output_type": "stream",
     "text": [
      "WARNING:tensorflow:From <ipython-input-2-b0ee67dbed2c>:31: arg_min (from tensorflow.python.ops.gen_math_ops) is deprecated and will be removed in a future version.\n",
      "Instructions for updating:\n",
      "Use `argmin` instead\n"
     ]
    }
   ],
   "source": [
    "# n different points we want to cluster\n",
    "# We have 59 points in all 3 categories * 2 people * 10 repetitions (maia_fall only had 9)\n",
    "train_trials = 59\n",
    "test_trials = 16\n",
    "# Tensor length of 80 since that's how many frames we decided on--easily modifiable\n",
    "NUM_FRAMES = 80\n",
    "NUM_FEATURES = 36\n",
    "\n",
    "# Starting off with just one point so that it's easier to follow along with tutorials\n",
    "# Will switch to more than one point later\n",
    "# joint_index specifies which of the 36 joints we want, 0 is nose\n",
    "# Find corresponding values at https://github.com/CMU-Perceptual-Computing-Lab/openpose/blob/master/doc/output.md\n",
    "joint_index = 0 \n",
    "\n",
    "Xtr, Ytr = data.train_get_three_dimension(train_trials)\n",
    "Xte, Yte = data.test_get_three_dimension(test_trials)\n",
    "\n",
    "# Xtr, Ytr = data.get_one_keypoint(n, joint_index)\n",
    "# Xte, Yte = data.get_one_keypoint(n, 2)\n",
    "# Xtr, Ytr = mnist.train.next_batch(5000) #5000 for training (nn candidates)\n",
    "# Xte, Yte = mnist.test.next_batch(200) #200 for testing\n",
    "\n",
    "# tf Graph Input\n",
    "xtr = tf.placeholder(\"float\", [train_trials, NUM_FRAMES, NUM_FEATURES])\n",
    "xte = tf.placeholder(\"float\", [NUM_FRAMES, NUM_FEATURES])\n",
    "\n",
    "# Nearest Neighbor calculation using L1 Distance\n",
    "# Calculate L1 Distance\n",
    "distance = tf.reduce_sum(tf.abs(tf.add(xtr, tf.negative(xte))), reduction_indices=1)\n",
    "# Prediction: Get min distance index (Nearest neighbor)\n",
    "pred = tf.argmin(distance, 0)\n",
    "\n",
    "# Initialize the variables (i.e. assign their default value)\n",
    "init = tf.global_variables_initializer()"
   ]
  },
  {
   "cell_type": "code",
   "execution_count": 4,
   "metadata": {
    "collapsed": false,
    "deletable": true,
    "editable": true
   },
   "outputs": [
    {
     "name": "stdout",
     "output_type": "stream",
     "text": [
      "Test 0 Prediction: 3 True Class: 1\n",
      "Test 1 Prediction: 3 True Class: 2\n",
      "Test 2 Prediction: 2 True Class: 3\n",
      "Test 3 Prediction: 2 True Class: 2\n",
      "3\n",
      "Test 4 Prediction: 3 True Class: 2\n",
      "Test 5 Prediction: 3 True Class: 3\n",
      "5\n",
      "Test 6 Prediction: 2 True Class: 1\n",
      "Test 7 Prediction: 1 True Class: 1\n",
      "7\n",
      "Test 8 Prediction: 2 True Class: 2\n",
      "8\n",
      "Test 9 Prediction: 2 True Class: 2\n",
      "9\n",
      "Test 10 Prediction: 2 True Class: 1\n",
      "Test 11 Prediction: 3 True Class: 3\n",
      "11\n",
      "Test 12 Prediction: 2 True Class: 2\n",
      "12\n",
      "Test 13 Prediction: 3 True Class: 3\n",
      "13\n",
      "Test 14 Prediction: 1 True Class: 1\n",
      "14\n",
      "Test 15 Prediction: 3 True Class: 1\n",
      "Done!\n",
      "Accuracy: 0.5625\n"
     ]
    }
   ],
   "source": [
    "# Start training\n",
    "with tf.Session() as sess:\n",
    "    accuracy = 0.\n",
    "    # Run the initializer\n",
    "    sess.run(init)\n",
    "\n",
    "    # loop over test data\n",
    "    for i in range(len(Xte)):\n",
    "        # Get nearest neighbor\n",
    "        nn_index = sess.run(pred, feed_dict={xtr: Xtr, xte: Xte[i, :, :]})\n",
    "        # Get nearest neighbor class label and compare it to its true label\n",
    "        print(\"Test\", i, \"Prediction:\", np.argmax(Ytr[nn_index]) + 1, \\\n",
    "            \"True Class:\", np.argmax(Yte[i]) + 1)\n",
    "        # Calculate accuracy\n",
    "        if np.argmax(Ytr[nn_index]) == np.argmax(Yte[i]):\n",
    "            accuracy += 1./len(Xte)\n",
    "            print(i)\n",
    "    print(\"Done!\")\n",
    "    print(\"Accuracy:\", accuracy)"
   ]
  },
  {
   "cell_type": "code",
   "execution_count": null,
   "metadata": {
    "collapsed": true,
    "deletable": true,
    "editable": true
   },
   "outputs": [],
   "source": []
  }
 ],
 "metadata": {
  "kernelspec": {
   "display_name": "Python 3",
   "language": "python",
   "name": "python3"
  },
  "language_info": {
   "codemirror_mode": {
    "name": "ipython",
    "version": 3
   },
   "file_extension": ".py",
   "mimetype": "text/x-python",
   "name": "python",
   "nbconvert_exporter": "python",
   "pygments_lexer": "ipython3",
   "version": "3.6.4"
  }
 },
 "nbformat": 4,
 "nbformat_minor": 2
}
