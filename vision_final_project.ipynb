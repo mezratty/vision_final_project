{
 "cells": [
  {
   "cell_type": "code",
   "execution_count": 2,
   "metadata": {
    "collapsed": false,
    "deletable": true,
    "editable": true
   },
   "outputs": [
    {
     "name": "stderr",
     "output_type": "stream",
     "text": [
      "/Library/Frameworks/Python.framework/Versions/3.6/lib/python3.6/importlib/_bootstrap.py:219: RuntimeWarning: compiletime version 3.5 of module 'tensorflow.python.framework.fast_tensor_util' does not match runtime version 3.6\n",
      "  return f(*args, **kwds)\n"
     ]
    }
   ],
   "source": [
    "from __future__ import print_function\n",
    "\n",
    "import numpy as np\n",
    "import tensorflow as tf\n",
    "import matplotlib.pyplot as plt\n",
    "\n",
    "# Load data\n",
    "import load_data as data"
   ]
  },
  {
   "cell_type": "code",
   "execution_count": 9,
   "metadata": {
    "collapsed": true,
    "deletable": true,
    "editable": true
   },
   "outputs": [],
   "source": [
    "# n different points we want to cluster\n",
    "# We have 59 points in all 3 categories * 2 people * 10 repetitions (maia_fall only had 9)\n",
    "train_trials = 59\n",
    "test_trials = 21\n",
    "# Tensor length of 80 since that's how many frames we decided on--easily modifiable\n",
    "NUM_FRAMES = 80\n",
    "NUM_FEATURES = 36\n",
    "\n",
    "# Starting off with just one point so that it's easier to follow along with tutorials\n",
    "# Will switch to more than one point later\n",
    "# joint_index specifies which of the 36 joints we want, 0 is nose\n",
    "# Find corresponding values at https://github.com/CMU-Perceptual-Computing-Lab/openpose/blob/master/doc/output.md\n",
    "joint_index = 0 \n",
    "\n",
    "# 3D\n",
    "# Xtr, Ytr = data.train_get_three_dimension(train_trials)\n",
    "# Xte, Yte = data.test_get_three_dimension(test_trials)\n",
    "\n"
   ]
  },
  {
   "cell_type": "code",
   "execution_count": 10,
   "metadata": {
    "collapsed": false,
    "deletable": true,
    "editable": true,
    "scrolled": true
   },
   "outputs": [
    {
     "name": "stdout",
     "output_type": "stream",
     "text": [
      "Feature 0 Accuracy: 0.6666666666666667\n",
      "Feature 1 Accuracy: 0.5714285714285714\n",
      "Feature 2 Accuracy: 0.7142857142857144\n",
      "Feature 3 Accuracy: 0.7142857142857144\n",
      "Feature 4 Accuracy: 0.6190476190476191\n",
      "Feature 5 Accuracy: 0.7142857142857144\n",
      "Feature 6 Accuracy: 0.5238095238095237\n",
      "Feature 7 Accuracy: 0.5714285714285714\n",
      "Feature 8 Accuracy: 0.5238095238095237\n",
      "Feature 9 Accuracy: 0.7619047619047621\n",
      "Feature 10 Accuracy: 0.7142857142857144\n",
      "Feature 11 Accuracy: 0.6666666666666667\n",
      "Feature 12 Accuracy: 0.8095238095238098\n",
      "Feature 13 Accuracy: 0.6190476190476191\n",
      "Feature 14 Accuracy: 0.7142857142857144\n",
      "Feature 15 Accuracy: 0.6190476190476191\n",
      "Feature 16 Accuracy: 0.6666666666666667\n",
      "Feature 17 Accuracy: 0.7619047619047621\n",
      "Feature 18 Accuracy: 0.5714285714285714\n",
      "Feature 19 Accuracy: 0.5714285714285714\n",
      "Feature 20 Accuracy: 0.6190476190476191\n",
      "Feature 21 Accuracy: 0.47619047619047616\n",
      "Feature 22 Accuracy: 0.5714285714285714\n",
      "Feature 23 Accuracy: 0.6666666666666667\n",
      "Feature 24 Accuracy: 0.5714285714285714\n",
      "Feature 25 Accuracy: 0.5714285714285714\n",
      "Feature 26 Accuracy: 0.6190476190476191\n",
      "Feature 27 Accuracy: 0.5238095238095237\n",
      "Feature 28 Accuracy: 0.5714285714285714\n",
      "Feature 29 Accuracy: 0.6190476190476191\n",
      "Feature 30 Accuracy: 0.6190476190476191\n",
      "Feature 31 Accuracy: 0.6190476190476191\n",
      "Feature 32 Accuracy: 0.6666666666666667\n",
      "Feature 33 Accuracy: 0.5714285714285714\n",
      "Feature 34 Accuracy: 0.7142857142857144\n",
      "Feature 35 Accuracy: 0.6666666666666667\n"
     ]
    }
   ],
   "source": [
    "# Start training\n",
    "accuracies = np.zeros(NUM_FEATURES)\n",
    "for i in range(NUM_FEATURES):\n",
    "    # 2D\n",
    "    Xtr, Ytr = data.train_get_one_keypoint(train_trials, i)\n",
    "    Xte, Yte = data.test_get_one_keypoint(test_trials, i)\n",
    "\n",
    "\n",
    "    # tf Graph Input\n",
    "\n",
    "    # 3D\n",
    "    # xtr = tf.placeholder(\"float\", [train_trials, NUM_FRAMES, NUM_FEATURES])\n",
    "    # xte = tf.placeholder(\"float\", [NUM_FRAMES, NUM_FEATURES])\n",
    "\n",
    "    # 2D\n",
    "    xtr = tf.placeholder(\"float\", [train_trials, NUM_FRAMES])\n",
    "    xte = tf.placeholder(\"float\", [NUM_FRAMES])\n",
    "\n",
    "    # Nearest Neighbor calculation using L1 Distance\n",
    "    # Calculate L1 Distance\n",
    "#     distance = tf.reduce_sum(tf.abs(tf.add(xtr, tf.negative(xte))), reduction_indices=1)\n",
    "    \n",
    "    # Euclidean\n",
    "    distance = tf.sqrt( tf.reduce_sum(tf.square(tf.subtract(xtr, xte)),\n",
    "                                reduction_indices=1))\n",
    "    \n",
    "    # Cosine\n",
    "#     distance = tf.reduce_sum(tf.multiply(tf.nn.l2_normalize(xtr ,0), tf.nn.l2_normalize(xte, 0)), reduction_indices=1)\n",
    "    \n",
    "    # Prediction: Get min distance index (Nearest neighbor)\n",
    "    pred = tf.argmin(distance, 0)\n",
    "\n",
    "    # Initialize the variables (i.e. assign their default value)\n",
    "    init = tf.global_variables_initializer()\n",
    "\n",
    "    ###### Training code\n",
    "\n",
    "    with tf.Session() as sess:\n",
    "        accuracy = 0.\n",
    "        # Run the initializer\n",
    "        sess.run(init)\n",
    "\n",
    "        # loop over test data\n",
    "        for j in range(len(Xte)):\n",
    "            # Get nearest neighbor\n",
    "            # 3D\n",
    "            # nn_index = sess.run(pred, feed_dict={xtr: Xtr, xte: Xte[i, :, :]})\n",
    "\n",
    "            #2D\n",
    "            nn_index = sess.run(pred, feed_dict={xtr: Xtr, xte: Xte[j, :]})\n",
    "            \n",
    "            # Get nearest neighbor class label and compare it to its true label\n",
    "#             print(\"Test\", i, \"Prediction:\", np.argmax(Ytr[nn_index]) + 1, \\\n",
    "#                 \"True Class:\", np.argmax(Yte[i]) + 1)\n",
    "            # Calculate accuracy\n",
    "            if np.argmax(Ytr[nn_index]) == np.argmax(Yte[j]):\n",
    "                accuracy += 1./len(Xte)\n",
    "        print(\"Feature\", i, \"Accuracy:\", accuracy)\n",
    "        accuracies[i] = accuracy\n",
    "#         print(distance.eval())\n",
    "\n",
    "# print(accuracies)   \n",
    "# plt.plot(accuracies)"
   ]
  },
  {
   "cell_type": "code",
   "execution_count": null,
   "metadata": {
    "collapsed": true,
    "deletable": true,
    "editable": true
   },
   "outputs": [],
   "source": []
  }
 ],
 "metadata": {
  "kernelspec": {
   "display_name": "Python 3",
   "language": "python",
   "name": "python3"
  },
  "language_info": {
   "codemirror_mode": {
    "name": "ipython",
    "version": 3
   },
   "file_extension": ".py",
   "mimetype": "text/x-python",
   "name": "python",
   "nbconvert_exporter": "python",
   "pygments_lexer": "ipython3",
   "version": "3.6.4"
  }
 },
 "nbformat": 4,
 "nbformat_minor": 2
}
